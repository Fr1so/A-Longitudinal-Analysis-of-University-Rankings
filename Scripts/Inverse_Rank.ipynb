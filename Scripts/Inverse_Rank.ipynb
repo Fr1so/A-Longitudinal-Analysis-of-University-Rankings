{
 "cells": [
  {
   "cell_type": "code",
   "execution_count": 1,
   "metadata": {},
   "outputs": [],
   "source": [
    "import pandas as pd\n",
    "import numpy as np\n",
    "import os\n",
    "from scipy.stats import spearmanr"
   ]
  },
  {
   "cell_type": "code",
   "execution_count": 2,
   "metadata": {},
   "outputs": [],
   "source": [
    "dirname = os.getcwd()\n",
    "dirname = dirname + '/Data/'"
   ]
  },
  {
   "cell_type": "code",
   "execution_count": 3,
   "metadata": {},
   "outputs": [],
   "source": [
    "df_ARWU2018 = pd.read_csv(dirname + 'ARWU/ARWURanking_2018_grid.csv')\n",
    "df_ARWU2017 = pd.read_csv(dirname + 'ARWU/ARWURanking_2017_grid.csv')\n",
    "df_ARWU2016 = pd.read_csv(dirname + 'ARWU/ARWURanking_2016_grid.csv')\n",
    "df_ARWU2015 = pd.read_csv(dirname + 'ARWU/ARWURanking_2015_grid.csv')\n",
    "df_ARWU2014 = pd.read_csv(dirname + 'ARWU/ARWURanking_2014_grid.csv')\n",
    "df_ARWU2013 = pd.read_csv(dirname + 'ARWU/ARWURanking_2013_grid.csv')\n",
    "df_ARWU2012 = pd.read_csv(dirname + 'ARWU/ARWURanking_2012_grid.csv')\n",
    "\n",
    "ARWU_DATA = [\"GRID_ID\", \"WorldRank\"]\n",
    "\n",
    "df_ARWU2012 = df_ARWU2012[ARWU_DATA].dropna()\n",
    "df_ARWU2013 = df_ARWU2013[ARWU_DATA].dropna()\n",
    "df_ARWU2014 = df_ARWU2014[ARWU_DATA].dropna()\n",
    "df_ARWU2015 = df_ARWU2015[ARWU_DATA].dropna()\n",
    "df_ARWU2016 = df_ARWU2016[ARWU_DATA].dropna()\n",
    "df_ARWU2017 = df_ARWU2017[ARWU_DATA].dropna()\n",
    "df_ARWU2018 = df_ARWU2018[ARWU_DATA].dropna()"
   ]
  },
  {
   "cell_type": "code",
   "execution_count": 74,
   "metadata": {},
   "outputs": [],
   "source": [
    "df_THE2012 = pd.read_csv(dirname + 'THE/THERanking2013__grid.csv')\n",
    "df_THE2013 = pd.read_csv(dirname + 'THE/THERanking2014__grid.csv')\n",
    "df_THE2014 = pd.read_csv(dirname + 'THE/THERanking2015__grid.csv')\n",
    "df_THE2015 = pd.read_csv(dirname + 'THE/THERanking2016__grid.csv')\n",
    "df_THE2016 = pd.read_csv(dirname + 'THE/THERanking2017__grid.csv')\n",
    "df_THE2017 = pd.read_csv(dirname + 'THE/THERanking2018__grid.csv')\n",
    "df_THE2018 = pd.read_csv(dirname + 'THE/THERanking2019__grid.csv')\n",
    "\n",
    "THE_DATA = [\"GRID_ID\", \"rank\"]\n",
    "\n",
    "df_THE2012 = df_THE2012[THE_DATA].dropna()\n",
    "df_THE2013 = df_THE2013[THE_DATA].dropna()\n",
    "df_THE2014 = df_THE2014[THE_DATA].dropna()\n",
    "df_THE2015 = df_THE2015[THE_DATA].dropna()\n",
    "df_THE2016 = df_THE2016[THE_DATA].dropna()\n",
    "df_THE2017 = df_THE2017[THE_DATA].dropna()\n",
    "df_THE2018 = df_THE2018[THE_DATA].dropna()"
   ]
  },
  {
   "cell_type": "code",
   "execution_count": 75,
   "metadata": {},
   "outputs": [],
   "source": [
    "df_QS2012 = pd.read_csv(dirname + 'QS/qs2013_grid.csv')\n",
    "df_QS2013 = pd.read_csv(dirname + 'QS/qs2014_grid.csv')\n",
    "df_QS2014 = pd.read_csv(dirname + 'QS/qs2015_grid.csv')\n",
    "df_QS2015 = pd.read_csv(dirname + 'QS/qs2016_grid.csv')\n",
    "df_QS2016 = pd.read_csv(dirname + 'QS/qs2017_grid.csv')\n",
    "df_QS2017 = pd.read_csv(dirname + 'QS/qs2018_grid.csv')\n",
    "df_QS2018 = pd.read_csv(dirname + 'QS/qs2019_grid.csv')\n",
    "\n",
    "QS_DATA = [\"GRID_ID\", \"Rank\"]\n",
    "\n",
    "df_QS2018 = df_QS2018.replace(0, np.nan)\n",
    "df_QS2017 = df_QS2017.replace(0, np.nan)\n",
    "df_QS2016 = df_QS2016.replace(0, np.nan)\n",
    "df_QS2015 = df_QS2015.replace(0, np.nan)\n",
    "df_QS2014 = df_QS2014.replace(0, np.nan)\n",
    "df_QS2013 = df_QS2013.replace(0, np.nan)\n",
    "df_QS2012 = df_QS2012.replace(0, np.nan)\n",
    "\n",
    "df_QS2018 = df_QS2018[QS_DATA].dropna()\n",
    "df_QS2017 = df_QS2017[QS_DATA].dropna()\n",
    "df_QS2016 = df_QS2016[QS_DATA].dropna()\n",
    "df_QS2015 = df_QS2015[QS_DATA].dropna()\n",
    "df_QS2014 = df_QS2014[QS_DATA].dropna()\n",
    "df_QS2013 = df_QS2013[QS_DATA].dropna()\n",
    "df_QS2012 = df_QS2012[QS_DATA].dropna()"
   ]
  },
  {
   "cell_type": "code",
   "execution_count": 6,
   "metadata": {},
   "outputs": [],
   "source": [
    "def inverse_rank_measure(X, Y, on):\n",
    "    Z = pd.merge(X, Y, on=on, how='inner')\n",
    "    S = X[~X[on].isin(Y[on])].dropna()\n",
    "    T = Y[~Y[on].isin(X[on])].dropna()\n",
    "    K1 = len(X)\n",
    "    K2 = len(Y)\n",
    "        \n",
    "    O = abs((1/Z['Rank1']) - 1/(Z['Rank2']))\n",
    "    L = abs((1/S['Rank1']) - (1/(K2+1)))\n",
    "    P = abs((1/T['Rank2']) - (1/(K1+1)))\n",
    "    N = sum(O) + sum(L) + sum(P)\n",
    "\n",
    "    L = sum([(1/i) - (1/(K2+1)) for i in range(1, K1+1)])\n",
    "    G = sum([(1/i) - (1/(K1+1)) for i in range(1, K2+1)])\n",
    "    Nmax = G + L\n",
    "\n",
    "    M = 1 - N/Nmax\n",
    "    \n",
    "    sprmn, p_value = spearmanr(Z['Rank1'], Z['Rank2'])\n",
    "    \n",
    "    if p_value < 0.001:\n",
    "        sprmn = str(round(sprmn, 2)) + '***'\n",
    "    elif p_value < 0.01:\n",
    "        sprmn = str(round(sprmn, 2)) + '**'\n",
    "    elif p_value < 0.05:\n",
    "        sprmn = str(round(sprmn, 2)) + '*'\n",
    "    else:\n",
    "        sprmn = str(round(sprmn, 2))\n",
    "    \n",
    "    print('{} & {} & {} &'.format(len(Z), sprmn, M))"
   ]
  },
  {
   "cell_type": "code",
   "execution_count": 192,
   "metadata": {},
   "outputs": [
    {
     "name": "stdout",
     "output_type": "stream",
     "text": [
      "98 & 1.0*** & 0.97 &\n"
     ]
    }
   ],
   "source": [
    "dfs1 = [df_ARWU2013, df_ARWU2012]\n",
    "\n",
    "for i in range(len(dfs1) - 1):\n",
    "        \n",
    "    df1 = dfs1[0]\n",
    "    df2 = dfs1[i + 1]\n",
    "\n",
    "    df1 = df1.iloc[0:100]\n",
    "    df2 = df2.iloc[0:100]\n",
    "\n",
    "    df1 = df1[['WorldRank', 'GRID_ID']]\n",
    "    df1['Rank'] = df1['WorldRank'].str.replace('=', '').astype(int)\n",
    "    df1['Rank'] = df1['Rank'].astype(int)\n",
    "    df1['Rank1'] = df1['Rank'].rank(ascending=1)\n",
    "\n",
    "    df2 = df2[['WorldRank', 'GRID_ID']]\n",
    "    df2['Rank'] = df2['WorldRank'].str.replace('=', '').astype(int)\n",
    "    df2['Rank'] = df2['Rank'].astype(int)\n",
    "    df2['Rank2'] = df2['Rank'].rank(ascending=1)\n",
    "    inverse_rank_measure(df1, df2, 'GRID_ID')"
   ]
  },
  {
   "cell_type": "code",
   "execution_count": 77,
   "metadata": {},
   "outputs": [
    {
     "name": "stdout",
     "output_type": "stream",
     "text": [
      "98 & 1.0 & 0.97\n"
     ]
    }
   ],
   "source": [
    "df1 = df_ARWU2012\n",
    "df2 = df_ARWU2013\n",
    "\n",
    "df1 = df1.iloc[0:100]\n",
    "df2 = df2.iloc[0:100]\n",
    "\n",
    "df1 = df1[['WorldRank', 'GRID_ID']]\n",
    "df1['Rank'] = df1['WorldRank'].str.replace('=', '').astype(int)\n",
    "df1['Rank'] = df1['Rank'].astype(int)\n",
    "df1['Rank1'] = df1['Rank'].rank(ascending=1)\n",
    "\n",
    "df2 = df2[['WorldRank', 'GRID_ID']]\n",
    "df2['Rank'] = df2['WorldRank'].str.replace('=', '').astype(int)\n",
    "df2['Rank'] = df2['Rank'].astype(int)\n",
    "df2['Rank2'] = df2['Rank'].rank(ascending=1)\n",
    "inverse_rank_measure(df1, df2, 'GRID_ID')"
   ]
  },
  {
   "cell_type": "code",
   "execution_count": null,
   "metadata": {},
   "outputs": [],
   "source": []
  },
  {
   "cell_type": "code",
   "execution_count": 15,
   "metadata": {},
   "outputs": [
    {
     "name": "stdout",
     "output_type": "stream",
     "text": [
      "5 & -1.0*** & 0.3855619653158544 &\n"
     ]
    }
   ],
   "source": [
    "# confirm the calculations are corect\n",
    "\n",
    "df1 = pd.DataFrame({\n",
    "    'GRID_ID': ['Z1', 'Z2', 'Z3', 'Z4', 'Z5', 'F', 'G', 'H', 'I', 'J'],\n",
    "    'Rank1': [1, 2, 3, 4, 5, 6, 7, 8, 9, 10]\n",
    "})\n",
    "\n",
    "df2 = pd.DataFrame({\n",
    "    'GRID_ID': ['Z1', 'Z2', 'Z3', 'Z4', 'Z5', 'A', 'B', 'C', 'D', 'E'],\n",
    "    'Rank2': [5, 4, 3, 2, 1, 6, 7, 8, 9, 10]\n",
    "})\n",
    "\n",
    "inverse_rank_measure(df1, df2, 'GRID_ID')"
   ]
  },
  {
   "cell_type": "code",
   "execution_count": 17,
   "metadata": {},
   "outputs": [
    {
     "name": "stdout",
     "output_type": "stream",
     "text": [
      "5 & 1.0*** & 0.09460449000732263 &\n"
     ]
    }
   ],
   "source": [
    "df1 = pd.DataFrame({\n",
    "    'GRID_ID': ['Z1', 'Z2', 'Z3', 'Z4', 'Z5', 'Z11', 'Z12', 'Z13', 'Z14', 'Z15'],\n",
    "    'Rank1': [1, 2, 3, 4, 5, 6, 7, 8, 9, 10]\n",
    "})\n",
    "\n",
    "df2 = pd.DataFrame({\n",
    "    'GRID_ID': ['Z1', 'Z2', 'Z3', 'Z4', 'Z5', 'Z111', 'Z121', 'Z131', 'Z141', 'Z151'],\n",
    "    'Rank2': [1, 2, 3, 4, 5, 6, 7, 8, 9, 10]\n",
    "})\n",
    "\n",
    "inverse_rank_measure(df1, df2, 'GRID_ID')"
   ]
  },
  {
   "cell_type": "code",
   "execution_count": 12,
   "metadata": {},
   "outputs": [
    {
     "name": "stdout",
     "output_type": "stream",
     "text": [
      "5 & 1.0*** & 0.09460449000732263 &\n"
     ]
    }
   ],
   "source": [
    "#test df\n",
    "df1 = pd.DataFrame({\n",
    "    'GRID_ID': ['Z1', 'Z2', 'Z3', 'Z4', 'Z5', 'Z11', 'Z12', 'Z13', 'Z14', 'Z15'],\n",
    "    'Rank1': [6, 7, 8, 9, 10, 1, 2, 3, 4, 5]\n",
    "})\n",
    "\n",
    "df2 = pd.DataFrame({\n",
    "    'GRID_ID': ['Z1', 'Z2', 'Z3', 'Z4', 'Z5', 'Z111', 'Z121', 'Z131', 'Z141', 'Z151'],\n",
    "    'Rank2': [1, 2, 3, 4, 5, 6, 7, 8, 9, 10]\n",
    "})\n",
    "\n",
    "inverse_rank_measure(df1, df2, 'GRID_ID')"
   ]
  },
  {
   "cell_type": "code",
   "execution_count": null,
   "metadata": {},
   "outputs": [],
   "source": []
  }
 ],
 "metadata": {
  "kernelspec": {
   "display_name": "Python 3",
   "language": "python",
   "name": "python3"
  },
  "language_info": {
   "codemirror_mode": {
    "name": "ipython",
    "version": 3
   },
   "file_extension": ".py",
   "mimetype": "text/x-python",
   "name": "python",
   "nbconvert_exporter": "python",
   "pygments_lexer": "ipython3",
   "version": "3.7.4"
  }
 },
 "nbformat": 4,
 "nbformat_minor": 2
}
